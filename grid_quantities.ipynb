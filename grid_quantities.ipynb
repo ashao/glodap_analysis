{
 "cells": [
  {
   "cell_type": "code",
   "execution_count": 3,
   "metadata": {},
   "outputs": [],
   "source": [
    "using DIVAnd\n",
    "using PyCall\n",
    "using CSV\n",
    "using DataFrames\n",
    "using Pkg\n",
    "using NetCDF\n",
    "crs = pyimport(\"cartopy\")\n",
    "ccrs = pyimport(\"cartopy.crs\");\n",
    "plt = pyimport(\"matplotlib.pyplot\");"
   ]
  },
  {
   "cell_type": "code",
   "execution_count": 4,
   "metadata": {},
   "outputs": [
    {
     "data": {
      "text/html": [
       "<table class=\"data-frame\"><thead><tr><th></th><th>Column1</th><th>latitude</th><th>longitude</th><th>26.0_z</th><th>26.1_z</th><th>26.2_z</th><th>26.3_z</th><th>26.4_z</th></tr><tr><th></th><th>Int64</th><th>Float64</th><th>Float64</th><th>Float64⍰</th><th>Float64⍰</th><th>Float64⍰</th><th>Float64⍰</th><th>Float64⍰</th></tr></thead><tbody><p>33,161 rows × 14 columns (omitted printing of 6 columns)</p><tr><th>1</th><td>0</td><td>80.567</td><td>7.2267</td><td>missing</td><td>missing</td><td>missing</td><td>missing</td><td>missing</td></tr><tr><th>2</th><td>1</td><td>80.633</td><td>9.46</td><td>missing</td><td>missing</td><td>missing</td><td>missing</td><td>missing</td></tr><tr><th>3</th><td>2</td><td>80.733</td><td>12.853</td><td>missing</td><td>missing</td><td>5.12151</td><td>7.15597</td><td>9.24417</td></tr><tr><th>4</th><td>3</td><td>81.052</td><td>17.668</td><td>missing</td><td>missing</td><td>missing</td><td>missing</td><td>missing</td></tr><tr><th>5</th><td>4</td><td>81.197</td><td>16.793</td><td>4.03173</td><td>5.01459</td><td>6.02765</td><td>7.07349</td><td>8.15511</td></tr><tr><th>6</th><td>5</td><td>81.308</td><td>15.385</td><td>missing</td><td>missing</td><td>missing</td><td>missing</td><td>missing</td></tr><tr><th>7</th><td>6</td><td>81.767</td><td>-10.643</td><td>24.6346</td><td>38.9907</td><td>43.5951</td><td>47.0121</td><td>49.8575</td></tr><tr><th>8</th><td>7</td><td>81.837</td><td>-10.49</td><td>21.1298</td><td>43.0017</td><td>52.5421</td><td>59.3204</td><td>64.2372</td></tr><tr><th>9</th><td>8</td><td>81.907</td><td>-10.247</td><td>25.4271</td><td>52.9589</td><td>64.4288</td><td>71.0385</td><td>76.2192</td></tr><tr><th>10</th><td>9</td><td>82.075</td><td>-9.4467</td><td>43.4703</td><td>69.7364</td><td>79.7941</td><td>86.3461</td><td>91.5996</td></tr><tr><th>11</th><td>10</td><td>82.27</td><td>-8.6667</td><td>44.2384</td><td>44.2383</td><td>73.1049</td><td>77.0576</td><td>80.4373</td></tr><tr><th>12</th><td>11</td><td>82.533</td><td>-6.1517</td><td>21.817</td><td>44.3341</td><td>51.2623</td><td>56.2855</td><td>60.4337</td></tr><tr><th>13</th><td>12</td><td>82.76</td><td>-9.6633</td><td>49.1418</td><td>53.62</td><td>57.0992</td><td>60.0474</td><td>62.6523</td></tr><tr><th>14</th><td>13</td><td>81.488</td><td>-2.03</td><td>5.06036</td><td>12.0547</td><td>18.1352</td><td>23.5854</td><td>28.5673</td></tr><tr><th>15</th><td>14</td><td>81.433</td><td>-2.8</td><td>23.0092</td><td>34.5059</td><td>41.9467</td><td>47.899</td><td>53.0068</td></tr><tr><th>16</th><td>15</td><td>81.108</td><td>-4.2483</td><td>24.731</td><td>38.8686</td><td>75.5082</td><td>79.839</td><td>83.4896</td></tr><tr><th>17</th><td>16</td><td>80.7</td><td>-5.1933</td><td>43.0217</td><td>43.0217</td><td>73.5094</td><td>78.126</td><td>82.0797</td></tr><tr><th>18</th><td>17</td><td>77.533</td><td>-5.6883</td><td>20.4453</td><td>26.8805</td><td>43.6481</td><td>49.6632</td><td>53.2753</td></tr><tr><th>19</th><td>18</td><td>77.663</td><td>-4.935</td><td>missing</td><td>25.2604</td><td>30.9645</td><td>35.3486</td><td>39.0539</td></tr><tr><th>20</th><td>19</td><td>77.588</td><td>-4.5483</td><td>7.26366</td><td>8.98885</td><td>10.7832</td><td>12.6557</td><td>14.6175</td></tr><tr><th>21</th><td>20</td><td>77.533</td><td>-4.275</td><td>missing</td><td>missing</td><td>missing</td><td>missing</td><td>1.1655</td></tr><tr><th>22</th><td>21</td><td>77.647</td><td>-2.48</td><td>missing</td><td>missing</td><td>missing</td><td>4.25864</td><td>6.2578</td></tr><tr><th>23</th><td>22</td><td>85.928</td><td>22.772</td><td>missing</td><td>missing</td><td>missing</td><td>missing</td><td>missing</td></tr><tr><th>24</th><td>23</td><td>86.108</td><td>22.027</td><td>missing</td><td>missing</td><td>missing</td><td>missing</td><td>missing</td></tr><tr><th>25</th><td>24</td><td>86.138</td><td>23.023</td><td>missing</td><td>missing</td><td>missing</td><td>missing</td><td>missing</td></tr><tr><th>26</th><td>25</td><td>-34.183</td><td>17.967</td><td>34.408</td><td>37.6886</td><td>41.3277</td><td>45.4605</td><td>50.337</td></tr><tr><th>27</th><td>26</td><td>-34.367</td><td>17.767</td><td>68.0036</td><td>75.5864</td><td>82.5894</td><td>89.4515</td><td>98.0552</td></tr><tr><th>28</th><td>27</td><td>-34.55</td><td>17.55</td><td>65.8045</td><td>74.6216</td><td>83.7257</td><td>94.0937</td><td>106.366</td></tr><tr><th>29</th><td>28</td><td>-34.75</td><td>17.35</td><td>81.7514</td><td>92.9581</td><td>103.549</td><td>114.47</td><td>127.405</td></tr><tr><th>30</th><td>29</td><td>-34.117</td><td>16.933</td><td>84.8789</td><td>96.5701</td><td>107.332</td><td>117.414</td><td>127.023</td></tr><tr><th>&vellip;</th><td>&vellip;</td><td>&vellip;</td><td>&vellip;</td><td>&vellip;</td><td>&vellip;</td><td>&vellip;</td><td>&vellip;</td><td>&vellip;</td></tr></tbody></table>"
      ],
      "text/latex": [
       "\\begin{tabular}{r|ccccccccc}\n",
       "\t& Column1 & latitude & longitude & 26.0\\_z & 26.1\\_z & 26.2\\_z & 26.3\\_z & 26.4\\_z & \\\\\n",
       "\t\\hline\n",
       "\t& Int64 & Float64 & Float64 & Float64⍰ & Float64⍰ & Float64⍰ & Float64⍰ & Float64⍰ & \\\\\n",
       "\t\\hline\n",
       "\t1 & 0 & 80.567 & 7.2267 &  &  &  &  &  & $\\dots$ \\\\\n",
       "\t2 & 1 & 80.633 & 9.46 &  &  &  &  &  & $\\dots$ \\\\\n",
       "\t3 & 2 & 80.733 & 12.853 &  &  & 5.12151 & 7.15597 & 9.24417 & $\\dots$ \\\\\n",
       "\t4 & 3 & 81.052 & 17.668 &  &  &  &  &  & $\\dots$ \\\\\n",
       "\t5 & 4 & 81.197 & 16.793 & 4.03173 & 5.01459 & 6.02765 & 7.07349 & 8.15511 & $\\dots$ \\\\\n",
       "\t6 & 5 & 81.308 & 15.385 &  &  &  &  &  & $\\dots$ \\\\\n",
       "\t7 & 6 & 81.767 & -10.643 & 24.6346 & 38.9907 & 43.5951 & 47.0121 & 49.8575 & $\\dots$ \\\\\n",
       "\t8 & 7 & 81.837 & -10.49 & 21.1298 & 43.0017 & 52.5421 & 59.3204 & 64.2372 & $\\dots$ \\\\\n",
       "\t9 & 8 & 81.907 & -10.247 & 25.4271 & 52.9589 & 64.4288 & 71.0385 & 76.2192 & $\\dots$ \\\\\n",
       "\t10 & 9 & 82.075 & -9.4467 & 43.4703 & 69.7364 & 79.7941 & 86.3461 & 91.5996 & $\\dots$ \\\\\n",
       "\t11 & 10 & 82.27 & -8.6667 & 44.2384 & 44.2383 & 73.1049 & 77.0576 & 80.4373 & $\\dots$ \\\\\n",
       "\t12 & 11 & 82.533 & -6.1517 & 21.817 & 44.3341 & 51.2623 & 56.2855 & 60.4337 & $\\dots$ \\\\\n",
       "\t13 & 12 & 82.76 & -9.6633 & 49.1418 & 53.62 & 57.0992 & 60.0474 & 62.6523 & $\\dots$ \\\\\n",
       "\t14 & 13 & 81.488 & -2.03 & 5.06036 & 12.0547 & 18.1352 & 23.5854 & 28.5673 & $\\dots$ \\\\\n",
       "\t15 & 14 & 81.433 & -2.8 & 23.0092 & 34.5059 & 41.9467 & 47.899 & 53.0068 & $\\dots$ \\\\\n",
       "\t16 & 15 & 81.108 & -4.2483 & 24.731 & 38.8686 & 75.5082 & 79.839 & 83.4896 & $\\dots$ \\\\\n",
       "\t17 & 16 & 80.7 & -5.1933 & 43.0217 & 43.0217 & 73.5094 & 78.126 & 82.0797 & $\\dots$ \\\\\n",
       "\t18 & 17 & 77.533 & -5.6883 & 20.4453 & 26.8805 & 43.6481 & 49.6632 & 53.2753 & $\\dots$ \\\\\n",
       "\t19 & 18 & 77.663 & -4.935 &  & 25.2604 & 30.9645 & 35.3486 & 39.0539 & $\\dots$ \\\\\n",
       "\t20 & 19 & 77.588 & -4.5483 & 7.26366 & 8.98885 & 10.7832 & 12.6557 & 14.6175 & $\\dots$ \\\\\n",
       "\t21 & 20 & 77.533 & -4.275 &  &  &  &  & 1.1655 & $\\dots$ \\\\\n",
       "\t22 & 21 & 77.647 & -2.48 &  &  &  & 4.25864 & 6.2578 & $\\dots$ \\\\\n",
       "\t23 & 22 & 85.928 & 22.772 &  &  &  &  &  & $\\dots$ \\\\\n",
       "\t24 & 23 & 86.108 & 22.027 &  &  &  &  &  & $\\dots$ \\\\\n",
       "\t25 & 24 & 86.138 & 23.023 &  &  &  &  &  & $\\dots$ \\\\\n",
       "\t26 & 25 & -34.183 & 17.967 & 34.408 & 37.6886 & 41.3277 & 45.4605 & 50.337 & $\\dots$ \\\\\n",
       "\t27 & 26 & -34.367 & 17.767 & 68.0036 & 75.5864 & 82.5894 & 89.4515 & 98.0552 & $\\dots$ \\\\\n",
       "\t28 & 27 & -34.55 & 17.55 & 65.8045 & 74.6216 & 83.7257 & 94.0937 & 106.366 & $\\dots$ \\\\\n",
       "\t29 & 28 & -34.75 & 17.35 & 81.7514 & 92.9581 & 103.549 & 114.47 & 127.405 & $\\dots$ \\\\\n",
       "\t30 & 29 & -34.117 & 16.933 & 84.8789 & 96.5701 & 107.332 & 117.414 & 127.023 & $\\dots$ \\\\\n",
       "\t$\\dots$ & $\\dots$ & $\\dots$ & $\\dots$ & $\\dots$ & $\\dots$ & $\\dots$ & $\\dots$ & $\\dots$ &  \\\\\n",
       "\\end{tabular}\n"
      ],
      "text/plain": [
       "33161×14 DataFrame. Omitted printing of 8 columns\n",
       "│ Row   │ Column1 │ latitude │ longitude │ 26.0_z   │ 26.1_z   │ 26.2_z   │\n",
       "│       │ \u001b[90mInt64\u001b[39m   │ \u001b[90mFloat64\u001b[39m  │ \u001b[90mFloat64\u001b[39m   │ \u001b[90mFloat64⍰\u001b[39m │ \u001b[90mFloat64⍰\u001b[39m │ \u001b[90mFloat64⍰\u001b[39m │\n",
       "├───────┼─────────┼──────────┼───────────┼──────────┼──────────┼──────────┤\n",
       "│ 1     │ 0       │ 80.567   │ 7.2267    │ \u001b[90mmissing\u001b[39m  │ \u001b[90mmissing\u001b[39m  │ \u001b[90mmissing\u001b[39m  │\n",
       "│ 2     │ 1       │ 80.633   │ 9.46      │ \u001b[90mmissing\u001b[39m  │ \u001b[90mmissing\u001b[39m  │ \u001b[90mmissing\u001b[39m  │\n",
       "│ 3     │ 2       │ 80.733   │ 12.853    │ \u001b[90mmissing\u001b[39m  │ \u001b[90mmissing\u001b[39m  │ 5.12151  │\n",
       "│ 4     │ 3       │ 81.052   │ 17.668    │ \u001b[90mmissing\u001b[39m  │ \u001b[90mmissing\u001b[39m  │ \u001b[90mmissing\u001b[39m  │\n",
       "│ 5     │ 4       │ 81.197   │ 16.793    │ 4.03173  │ 5.01459  │ 6.02765  │\n",
       "│ 6     │ 5       │ 81.308   │ 15.385    │ \u001b[90mmissing\u001b[39m  │ \u001b[90mmissing\u001b[39m  │ \u001b[90mmissing\u001b[39m  │\n",
       "│ 7     │ 6       │ 81.767   │ -10.643   │ 24.6346  │ 38.9907  │ 43.5951  │\n",
       "│ 8     │ 7       │ 81.837   │ -10.49    │ 21.1298  │ 43.0017  │ 52.5421  │\n",
       "│ 9     │ 8       │ 81.907   │ -10.247   │ 25.4271  │ 52.9589  │ 64.4288  │\n",
       "│ 10    │ 9       │ 82.075   │ -9.4467   │ 43.4703  │ 69.7364  │ 79.7941  │\n",
       "⋮\n",
       "│ 33151 │ 33150   │ -55.1702 │ -57.9835  │ \u001b[90mmissing\u001b[39m  │ \u001b[90mmissing\u001b[39m  │ \u001b[90mmissing\u001b[39m  │\n",
       "│ 33152 │ 33151   │ -55.2143 │ -57.9833  │ \u001b[90mmissing\u001b[39m  │ \u001b[90mmissing\u001b[39m  │ \u001b[90mmissing\u001b[39m  │\n",
       "│ 33153 │ 33152   │ -55.5168 │ -57.9843  │ \u001b[90mmissing\u001b[39m  │ \u001b[90mmissing\u001b[39m  │ \u001b[90mmissing\u001b[39m  │\n",
       "│ 33154 │ 33153   │ -55.834  │ -57.82    │ \u001b[90mmissing\u001b[39m  │ \u001b[90mmissing\u001b[39m  │ \u001b[90mmissing\u001b[39m  │\n",
       "│ 33155 │ 33154   │ -56.1504 │ -57.6217  │ \u001b[90mmissing\u001b[39m  │ \u001b[90mmissing\u001b[39m  │ \u001b[90mmissing\u001b[39m  │\n",
       "│ 33156 │ 33155   │ -56.4688 │ -57.3911  │ \u001b[90mmissing\u001b[39m  │ \u001b[90mmissing\u001b[39m  │ \u001b[90mmissing\u001b[39m  │\n",
       "│ 33157 │ 33156   │ -56.7833 │ -57.2309  │ \u001b[90mmissing\u001b[39m  │ \u001b[90mmissing\u001b[39m  │ \u001b[90mmissing\u001b[39m  │\n",
       "│ 33158 │ 33157   │ -57.1136 │ -57.0108  │ \u001b[90mmissing\u001b[39m  │ \u001b[90mmissing\u001b[39m  │ \u001b[90mmissing\u001b[39m  │\n",
       "│ 33159 │ 33158   │ -58.0506 │ -56.4475  │ \u001b[90mmissing\u001b[39m  │ \u001b[90mmissing\u001b[39m  │ \u001b[90mmissing\u001b[39m  │\n",
       "│ 33160 │ 33159   │ -58.3706 │ -56.2479  │ \u001b[90mmissing\u001b[39m  │ \u001b[90mmissing\u001b[39m  │ \u001b[90mmissing\u001b[39m  │\n",
       "│ 33161 │ 33160   │ -58.6831 │ -56.0543  │ \u001b[90mmissing\u001b[39m  │ \u001b[90mmissing\u001b[39m  │ \u001b[90mmissing\u001b[39m  │"
      ]
     },
     "execution_count": 4,
     "metadata": {},
     "output_type": "execute_result"
    }
   ],
   "source": [
    "data = DataFrame(CSV.File(\"glodap_with_ttd_ages.csv\"));\n",
    "isopycnal_depths = DataFrame(CSV.File(\"sigma_levels_z.csv\"))"
   ]
  },
  {
   "cell_type": "code",
   "execution_count": 7,
   "metadata": {},
   "outputs": [],
   "source": [
    "masklon = ncread(\"/home/ashao/data/lsmask.19294.nc\",\"lon\")\n",
    "masklat = ncread(\"/home/ashao/data/lsmask.19294.nc\",\"lat\");\n",
    "lsmask = ncread(\"/home/ashao/data/lsmask.19294.nc\",\"lsmask\");\n",
    "lonidx = (masklon .> 110) .& (masklon .< 280)\n",
    "latidx = (masklat .> -10) .& (masklat .< 70)\n",
    "sigmas = range(26.1,27,step=0.1)\n",
    "ocean_mask = repeat(reverse(lsmask[lonidx,latidx,:] .== 0,dims=2),outer=(1,1,size(sigmas,1)))\n",
    "xi,yi,zi = ndgrid(masklon[lonidx],reverse(masklat[latidx]),sigmas);"
   ]
  },
  {
   "cell_type": "code",
   "execution_count": 15,
   "metadata": {},
   "outputs": [
    {
     "data": {
      "text/plain": [
       "PyObject <matplotlib.colorbar.Colorbar object at 0x7f7694e282b0>"
      ]
     },
     "execution_count": 15,
     "metadata": {},
     "output_type": "execute_result"
    }
   ],
   "source": [
    "subdata = dropmissing(data,:cfc11_age)# sigma = 26.2\n",
    "# subdata = subdata[ (subdata.sigma0 .> 26.1) .& (subdata.sigma0 .< 26.3),: ]\n",
    "x = (mod1.(subdata.longitude,360),subdata.latitude,subdata.sigma0)\n",
    "grid_intp = (xi,yi,zi)\n",
    "cfc11_values = subdata.cfc11_age;\n",
    "grid_factors = (\n",
    "    ones(size(xi))./1.875,\n",
    "    ones(size(yi))./1.9,\n",
    "    ones(size(zi))./0.025\n",
    "    )\n",
    "    \n",
    "cfc11,s = DIVAndrun(ocean_mask,grid_factors,grid_intp,x,cfc11_values,(10.,5.,0.05),20.);\n",
    "cfc11[cfc11 .< 0] .= 0.\n",
    "plt.figure()\n",
    "ax = plt.subplot(1,1,1,projection=ccrs.PlateCarree(central_longitude=390/2))\n",
    "cax = ax.pcolormesh(xi[:,:,1],yi[:,:,1],cfc11[:,:,2],transform=ccrs.PlateCarree(),cmap=plt.cm.RdBu_r,vmin=0,vmax=120)\n",
    "ax.scatter(subdata.longitude,subdata.latitude,s=2.,c=\"w\",transform=ccrs.PlateCarree())\n",
    "ax.contour(xi[:,:,1],yi[:,:,1],cfc11[:,:,1],levels = [5,10,20,40,80,120],transform=ccrs.PlateCarree(),colors=\"black\")\n",
    "ax.set_extent([110,280,-10,70],crs=ccrs.PlateCarree())\n",
    "# ax.add_feature(crs.feature.COASTLINE, zorder=0, edgecolor=\"black\")\n",
    "plt.colorbar(cax,label = \"CFC-11 Age (yr)\",orientation=\"horizontal\")\n",
    "# plt.show()"
   ]
  },
  {
   "cell_type": "code",
   "execution_count": 57,
   "metadata": {},
   "outputs": [
    {
     "data": {
      "text/plain": [
       "PyObject <matplotlib.colorbar.Colorbar object at 0x7f76945c7f60>"
      ]
     },
     "execution_count": 57,
     "metadata": {},
     "output_type": "execute_result"
    }
   ],
   "source": [
    "o2data = data[(data.oxygenqc .== 1) .& (data.oxygen.>0),:]\n",
    "x = (mod1.(o2data.longitude,360),o2data.latitude,o2data.sigma0)\n",
    "o2_values = o2data.oxygen\n",
    "o2,s = DIVAndrun(ocean_mask,grid_factors,grid_intp,x,o2_values,(10.,5.,0.05),10.);\n",
    "o2[o2.<0] .= 0.\n",
    "\n",
    "plt.figure()\n",
    "ax = plt.subplot(1,1,1,projection=ccrs.PlateCarree(central_longitude=390/2))\n",
    "cax = ax.pcolormesh(xi[:,:,1],yi[:,:,1],o2[:,:,1],transform=ccrs.PlateCarree(),cmap=plt.cm.RdBu_r)\n",
    "ax.scatter(o2data.longitude,o2data.latitude,s=2.,c=\"w\",transform=ccrs.PlateCarree())\n",
    "ax.contour(xi[:,:,1],yi[:,:,1],o2[:,:,1],levels=range(0,stop=500,step=50),transform=ccrs.PlateCarree(),colors=\"black\")\n",
    "ax.set_extent([110,280,-10,70],crs=ccrs.PlateCarree())\n",
    "# ax.gridlines()\n",
    "# ax.coastlines()\n",
    "plt.colorbar(cax,label = \"Oxygen [umol kg-1]\",orientation=\"horizontal\")\n",
    "# plt.show()"
   ]
  },
  {
   "cell_type": "code",
   "execution_count": 66,
   "metadata": {},
   "outputs": [],
   "source": [
    "grid2d_intp = (xi[:,:,1],yi[:,:,1]);\n",
    "mask_2d     = ocean_mask[:,:,1];\n",
    "grid2d_factors = (grid_factors[1][:,:,1],grid_factors[2][:,:,1]);"
   ]
  },
  {
   "cell_type": "code",
   "execution_count": 78,
   "metadata": {},
   "outputs": [
    {
     "data": {
      "text/plain": [
       "0-element view(::Array{Float64,1}, Int64[]) with eltype Float64"
      ]
     },
     "execution_count": 78,
     "metadata": {},
     "output_type": "execute_result"
    }
   ],
   "source": [
    "sigma_z_grid = ones(size(o2))*NaN\n",
    "\n",
    "for (idx, sigma) in enumerate(sigmas)\n",
    "    subdata = dropmissing(isopycnal_depths[:,[2,3,idx+4]])    \n",
    "    x = (mod1.(subdata.longitude,360),subdata.latitude)\n",
    "    sigma_z_grid[:,:,idx],s = DIVAndrun(mask_2d,grid2d_factors,grid2d_intp,x,subdata[!,3],(10.,5.),10);\n",
    "end\n",
    "\n",
    "sigma_z_grid[sigma_z_grid .< 0.] .= NaN"
   ]
  },
  {
   "cell_type": "code",
   "execution_count": 90,
   "metadata": {},
   "outputs": [
    {
     "data": {
      "text/plain": [
       "PyObject <matplotlib.colorbar.Colorbar object at 0x7f76a98edfd0>"
      ]
     },
     "execution_count": 90,
     "metadata": {},
     "output_type": "execute_result"
    }
   ],
   "source": [
    "plt.figure()\n",
    "ax = plt.subplot(1,1,1,projection=ccrs.PlateCarree(central_longitude=390/2))\n",
    "cax = ax.pcolormesh(xi[:,:,1],yi[:,:,1],sigma_z_grid[:,:,5],transform=ccrs.PlateCarree(),cmap=plt.cm.RdBu_r)\n",
    "ax.scatter(subdata.longitude,subdata.latitude,s=2.,c=\"w\",transform=ccrs.PlateCarree())\n",
    "ax.set_extent([110,280,-10,70],crs=ccrs.PlateCarree())\n",
    "plt.colorbar(cax,label = \"Isopycnal Depth [m]\",orientation=\"horizontal\")\n"
   ]
  },
  {
   "cell_type": "code",
   "execution_count": 91,
   "metadata": {},
   "outputs": [],
   "source": [
    "plt.show()"
   ]
  },
  {
   "cell_type": "code",
   "execution_count": 85,
   "metadata": {},
   "outputs": [],
   "source": [
    "o2atts = Dict(\n",
    "    \"units\" => \"umol kg-1\",\n",
    "    \"long_name\" => \"concentration of oxygen in seawater\")\n",
    "ageatts = Dict(\n",
    "    \"units\" => \"years\",\n",
    "    \"long_name\" => \"age of seawater inferred from 1d TTD method using pCFC-11\"\n",
    "    )\n",
    "sigmaatts = Dict(\n",
    "    \"units\" => \"kg m-3\",\n",
    "    \"long_name\" => \"potential density anomaly referenced to 0 dbar\"\n",
    "    )\n",
    "sigma_z_atts = Dict(\n",
    "    \"units\" => \"m\",\n",
    "    \"long_name\" => \"depth of the potential density anomaly surface\"\n",
    "    )\n",
    "fname = \"gridded_oxygen_age_sigma_z.nc\"\n",
    "nccreate(fname,\"o2\",\"lon\",masklon[lonidx],\"lat\",reverse(masklat[latidx]),\"sigma0\",sigmas,sigmaatts,atts=o2atts)\n",
    "nccreate(fname,\"cfc11_age\",\"lon\",masklon[lonidx],\"lat\",reverse(masklat[latidx]),\"sigma0\",sigmas,sigmaatts,atts=ageatts)\n",
    "nccreate(fname,\"sigma_z\",\"lon\",masklon[lonidx],\"lat\",reverse(masklat[latidx]),\"sigma0\",sigmas,sigmaatts,atts=sigma_z_atts)\n",
    "ncwrite(o2,fname,\"o2\")\n",
    "ncwrite(cfc11,fname,\"cfc11_age\")\n",
    "ncwrite(sigma_z_grid,fname,\"sigma_z\")"
   ]
  },
  {
   "cell_type": "code",
   "execution_count": 13,
   "metadata": {},
   "outputs": [
    {
     "data": {
      "text/plain": [
       "(91, 42, 10)"
      ]
     },
     "execution_count": 13,
     "metadata": {},
     "output_type": "execute_result"
    }
   ],
   "source": [
    "size(xi)"
   ]
  },
  {
   "cell_type": "code",
   "execution_count": null,
   "metadata": {},
   "outputs": [],
   "source": []
  }
 ],
 "metadata": {
  "kernelspec": {
   "display_name": "Julia 1.0.5",
   "language": "julia",
   "name": "julia-1.0"
  },
  "language_info": {
   "file_extension": ".jl",
   "mimetype": "application/julia",
   "name": "julia",
   "version": "1.0.5"
  }
 },
 "nbformat": 4,
 "nbformat_minor": 4
}
