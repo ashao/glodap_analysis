{
 "cells": [
  {
   "cell_type": "code",
   "execution_count": 14,
   "metadata": {},
   "outputs": [],
   "source": [
    "using DIVAnd\n",
    "using PyCall\n",
    "using CSV\n",
    "using DataFrames\n",
    "using Pkg\n",
    "using NetCDF\n",
    "crs = pyimport(\"cartopy\")\n",
    "ccrs = pyimport(\"cartopy.crs\");\n",
    "plt = pyimport(\"matplotlib.pyplot\");"
   ]
  },
  {
   "cell_type": "code",
   "execution_count": 2,
   "metadata": {},
   "outputs": [],
   "source": [
    "data = DataFrame(CSV.File(\"glodap_with_ttd_ages.csv\"));"
   ]
  },
  {
   "cell_type": "code",
   "execution_count": 65,
   "metadata": {},
   "outputs": [],
   "source": [
    "masklon = ncread(\"/home/ashao/data/lsmask.19294.nc\",\"lon\")\n",
    "masklat = ncread(\"/home/ashao/data/lsmask.19294.nc\",\"lat\");\n",
    "lsmask = ncread(\"/home/ashao/data/lsmask.19294.nc\",\"lsmask\");\n",
    "lonidx = (masklon .> 110) .& (masklon .< 280)\n",
    "latidx = (masklat .> -10) .& (masklat .< 70)\n",
    "sigmas = range(26.1,27,step=0.1)\n",
    "ocean_mask = repeat(reverse(lsmask[lonidx,latidx,:] .== 0,dims=2),outer=(1,1,size(sigmas,1)))\n",
    "xi,yi,zi = ndgrid(masklon[lonidx],reverse(masklat[latidx]),sigmas);"
   ]
  },
  {
   "cell_type": "code",
   "execution_count": 69,
   "metadata": {},
   "outputs": [
    {
     "data": {
      "text/plain": [
       "PyObject <matplotlib.colorbar.Colorbar object at 0x7f2ecbbdf588>"
      ]
     },
     "execution_count": 69,
     "metadata": {},
     "output_type": "execute_result"
    }
   ],
   "source": [
    "subdata = dropmissing(data,:cfc11_age)# sigma = 26.2\n",
    "# subdata = subdata[ (subdata.sigma0 .> 26.1) .& (subdata.sigma0 .< 26.3),: ]\n",
    "x = (mod1.(subdata.longitude,360),subdata.latitude,subdata.sigma0)\n",
    "grid_intp = (xi,yi,zi)\n",
    "cfc11_values = subdata.cfc11_age;\n",
    "grid_factors = (\n",
    "    ones(size(xi))./1.875,\n",
    "    ones(size(yi))./1.9,\n",
    "    ones(size(zi))./0.025\n",
    "    )\n",
    "    \n",
    "cfc11,s = DIVAndrun(ocean_mask,grid_factors,grid_intp,x,cfc11_values,(10.,5.,0.05),20.);\n",
    "cfc11[cfc11 .< 0] .= 0.\n",
    "plt.figure()\n",
    "ax = plt.subplot(1,1,1,projection=ccrs.PlateCarree(central_longitude=390/2))\n",
    "cax = ax.pcolormesh(xi[:,:,1],yi[:,:,1],cfc11[:,:,2],transform=ccrs.PlateCarree(),cmap=plt.cm.RdBu_r,vmin=0,vmax=120)\n",
    "ax.scatter(subdata.longitude,subdata.latitude,s=2.,c=\"w\",transform=ccrs.PlateCarree())\n",
    "ax.contour(xi[:,:,1],yi[:,:,1],cfc11[:,:,1],levels = [5,10,20,40,80,120],transform=ccrs.PlateCarree(),colors=\"black\")\n",
    "ax.set_extent([110,280,-10,70],crs=ccrs.PlateCarree())\n",
    "# ax.add_feature(crs.feature.COASTLINE, zorder=0, edgecolor=\"black\")\n",
    "plt.colorbar(cax,label = \"CFC-11 Age (yr)\",orientation=\"horizontal\")\n",
    "# plt.show()"
   ]
  },
  {
   "cell_type": "code",
   "execution_count": 67,
   "metadata": {},
   "outputs": [
    {
     "data": {
      "text/plain": [
       "PyObject <matplotlib.colorbar.Colorbar object at 0x7f2ecbf56940>"
      ]
     },
     "execution_count": 67,
     "metadata": {},
     "output_type": "execute_result"
    }
   ],
   "source": [
    "o2data = data[(data.oxygenqc .== 1) .& (data.oxygen.>0),:]\n",
    "x = (mod1.(o2data.longitude,360),o2data.latitude,o2data.sigma0)\n",
    "o2_values = o2data.oxygen\n",
    "o2,s = DIVAndrun(ocean_mask,grid_factors,grid_intp,x,o2_values,(10.,5.,0.05),10.);\n",
    "o2[o2.<0] .= 0.\n",
    "\n",
    "plt.figure()\n",
    "ax = plt.subplot(1,1,1,projection=ccrs.PlateCarree(central_longitude=390/2))\n",
    "cax = ax.pcolormesh(xi[:,:,1],yi[:,:,1],o2[:,:,1],transform=ccrs.PlateCarree(),cmap=plt.cm.RdBu_r)\n",
    "ax.scatter(o2data.longitude,o2data.latitude,s=2.,c=\"w\",transform=ccrs.PlateCarree())\n",
    "ax.contour(xi[:,:,1],yi[:,:,1],o2[:,:,1],levels=range(0,stop=500,step=50),transform=ccrs.PlateCarree(),colors=\"black\")\n",
    "ax.set_extent([110,280,-10,70],crs=ccrs.PlateCarree())\n",
    "# ax.gridlines()\n",
    "# ax.coastlines()\n",
    "plt.colorbar(cax,label = \"Oxygen [umol kg-1]\",orientation=\"horizontal\")\n",
    "# plt.show()"
   ]
  },
  {
   "cell_type": "code",
   "execution_count": 70,
   "metadata": {},
   "outputs": [],
   "source": [
    "plt.show()"
   ]
  },
  {
   "cell_type": "code",
   "execution_count": 72,
   "metadata": {},
   "outputs": [],
   "source": [
    "o2atts = Dict(\n",
    "    \"units\" => \"umol kg-1\",\n",
    "    \"long_name\" => \"concentration of oxygen in seawater\")\n",
    "ageatts = Dict(\n",
    "    \"units\" => \"years\",\n",
    "    \"long_name\" => \"age of seawater inferred from 1d TTD method using pCFC-11\"\n",
    "    )\n",
    "sigmaatts = Dict(\n",
    "    \"units\" => \"kg m-3\",\n",
    "    \"long_name\" => \"potential density anomaly referenced to 0 dbar\"\n",
    "    )\n",
    "fname = \"gridded_oxygen_age.nc\"\n",
    "nccreate(fname,\"o2\",\"lon\",masklon[lonidx],\"lat\",reverse(masklat[latidx]),\"sigma0\",sigmas,sigmaatts,atts=o2atts)\n",
    "nccreate(fname,\"cfc11_age\",\"lon\",masklon[lonidx],\"lat\",reverse(masklat[latidx]),\"sigma0\",sigmas,sigmaatts,atts=ageatts)\n",
    "ncwrite(o2,fname,\"o2\")\n",
    "ncwrite(cfc11,fname,\"cfc11_age\")"
   ]
  },
  {
   "cell_type": "code",
   "execution_count": null,
   "metadata": {},
   "outputs": [],
   "source": []
  }
 ],
 "metadata": {
  "kernelspec": {
   "display_name": "Julia 1.0.5",
   "language": "julia",
   "name": "julia-1.0"
  },
  "language_info": {
   "file_extension": ".jl",
   "mimetype": "application/julia",
   "name": "julia",
   "version": "1.0.5"
  }
 },
 "nbformat": 4,
 "nbformat_minor": 4
}
